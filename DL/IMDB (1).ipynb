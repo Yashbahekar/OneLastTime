{
  "nbformat": 4,
  "nbformat_minor": 0,
  "metadata": {
    "colab": {
      "provenance": []
    },
    "kernelspec": {
      "name": "python3",
      "display_name": "Python 3"
    },
    "language_info": {
      "name": "python"
    }
  },
  "cells": [
    {
      "cell_type": "code",
      "execution_count": 1,
      "metadata": {
        "id": "uVeB0xaxR9PV"
      },
      "outputs": [],
      "source": [
        "from  keras.datasets import imdb\n"
      ]
    },
    {
      "cell_type": "code",
      "source": [
        "(train_data, train_labels), (test_data, test_labels) = imdb.load_data(num_words=10000)\n"
      ],
      "metadata": {
        "colab": {
          "base_uri": "https://localhost:8080/"
        },
        "id": "I1f0IzJtSFCe",
        "outputId": "dc0f3291-571f-4909-ccb6-3cea04fa1e5a"
      },
      "execution_count": 2,
      "outputs": [
        {
          "output_type": "stream",
          "name": "stdout",
          "text": [
            "Downloading data from https://storage.googleapis.com/tensorflow/tf-keras-datasets/imdb.npz\n",
            "17464789/17464789 [==============================] - 0s 0us/step\n"
          ]
        }
      ]
    },
    {
      "cell_type": "code",
      "source": [
        "max([max(sequence) for sequence in train_data])\n"
      ],
      "metadata": {
        "colab": {
          "base_uri": "https://localhost:8080/"
        },
        "id": "Zz1QRSXWVJEK",
        "outputId": "1322ed33-f258-42ba-fc77-c9ecd0b1519e"
      },
      "execution_count": 3,
      "outputs": [
        {
          "output_type": "execute_result",
          "data": {
            "text/plain": [
              "9999"
            ]
          },
          "metadata": {},
          "execution_count": 3
        }
      ]
    },
    {
      "cell_type": "code",
      "source": [
        "word_index = imdb.get_word_index()\n",
        "reverse_word_index = dict([(val, key) for (key, val) in word_index.items()])\n",
        "decoded_review = ' '.join([reverse_word_index.get(i-3, '?') for i in train_data[0]])"
      ],
      "metadata": {
        "colab": {
          "base_uri": "https://localhost:8080/"
        },
        "id": "dmoJ8_T1VRcw",
        "outputId": "0371bb04-f38f-4a0a-fcbf-51cab88c680c"
      },
      "execution_count": 4,
      "outputs": [
        {
          "output_type": "stream",
          "name": "stdout",
          "text": [
            "Downloading data from https://storage.googleapis.com/tensorflow/tf-keras-datasets/imdb_word_index.json\n",
            "1641221/1641221 [==============================] - 0s 0us/step\n"
          ]
        }
      ]
    },
    {
      "cell_type": "code",
      "source": [
        "import numpy as np\n"
      ],
      "metadata": {
        "id": "wfU8qsrcVXsa"
      },
      "execution_count": 5,
      "outputs": []
    },
    {
      "cell_type": "code",
      "source": [
        "def vectorize(sequences, dimension=10000):\n",
        "\t\tresults = np.zeros((len(sequences), dimension))\n",
        "\t\tfor i, sequence in enumerate(sequences):\n",
        "\t\t\tresults[i, sequence] = 1\n",
        "\t\treturn results"
      ],
      "metadata": {
        "id": "Up1boU-6VZPO"
      },
      "execution_count": 6,
      "outputs": []
    },
    {
      "cell_type": "code",
      "source": [
        "x_train = vectorize(train_data)\n",
        "x_test = vectorize(test_data)\n",
        "y_train = np.asarray(train_labels).astype('float32')\n",
        "y_test = np.asarray(test_labels).astype('float32')"
      ],
      "metadata": {
        "id": "r_1v5QlkVbXu"
      },
      "execution_count": 7,
      "outputs": []
    },
    {
      "cell_type": "code",
      "source": [
        "from keras import models\n",
        "from keras import layers"
      ],
      "metadata": {
        "id": "MLqXaYE4VdKF"
      },
      "execution_count": 8,
      "outputs": []
    },
    {
      "cell_type": "code",
      "source": [
        "model = models.Sequential()\n",
        "model.add(layers.Dense(16, activation='relu', input_shape=(10000,)))\n",
        "model.add(layers.Dense(16, activation='relu'))\n",
        "model.add(layers.Dense(1, activation='sigmoid'))"
      ],
      "metadata": {
        "id": "ZdQbEP7sVgBI"
      },
      "execution_count": 9,
      "outputs": []
    },
    {
      "cell_type": "code",
      "source": [
        "model.compile(loss = 'binary_crossentropy',optimizer='rmsprop',  metrics = ['accuracy'])\n"
      ],
      "metadata": {
        "id": "9ZZXM7mQVhro"
      },
      "execution_count": 10,
      "outputs": []
    },
    {
      "cell_type": "code",
      "source": [
        "x_val = x_train[:10000]\n",
        "y_val = y_train[:10000]"
      ],
      "metadata": {
        "id": "ChB1fE5IVjTR"
      },
      "execution_count": 11,
      "outputs": []
    },
    {
      "cell_type": "code",
      "source": [
        "\n",
        "partial_x = x_train[10000:]\n",
        "partial_y = y_train[10000:]"
      ],
      "metadata": {
        "id": "vYgOE571Vl9q"
      },
      "execution_count": 12,
      "outputs": []
    },
    {
      "cell_type": "code",
      "source": [
        "history = model.fit(partial_x, partial_y, epochs=20, batch_size=512, validation_data=(x_val, y_val))\n"
      ],
      "metadata": {
        "colab": {
          "base_uri": "https://localhost:8080/"
        },
        "id": "hsTlVMBjVn7M",
        "outputId": "8138c3c3-cafd-469d-e293-878af8ebf560"
      },
      "execution_count": 13,
      "outputs": [
        {
          "output_type": "stream",
          "name": "stdout",
          "text": [
            "Epoch 1/20\n",
            "30/30 [==============================] - 3s 85ms/step - loss: 0.5287 - accuracy: 0.7785 - val_loss: 0.4081 - val_accuracy: 0.8538\n",
            "Epoch 2/20\n",
            "30/30 [==============================] - 2s 67ms/step - loss: 0.3277 - accuracy: 0.8923 - val_loss: 0.3401 - val_accuracy: 0.8637\n",
            "Epoch 3/20\n",
            "30/30 [==============================] - 2s 72ms/step - loss: 0.2472 - accuracy: 0.9159 - val_loss: 0.2870 - val_accuracy: 0.8876\n",
            "Epoch 4/20\n",
            "30/30 [==============================] - 2s 57ms/step - loss: 0.1992 - accuracy: 0.9314 - val_loss: 0.2788 - val_accuracy: 0.8884\n",
            "Epoch 5/20\n",
            "30/30 [==============================] - 2s 58ms/step - loss: 0.1675 - accuracy: 0.9448 - val_loss: 0.2766 - val_accuracy: 0.8878\n",
            "Epoch 6/20\n",
            "30/30 [==============================] - 2s 63ms/step - loss: 0.1431 - accuracy: 0.9526 - val_loss: 0.2858 - val_accuracy: 0.8891\n",
            "Epoch 7/20\n",
            "30/30 [==============================] - 2s 59ms/step - loss: 0.1243 - accuracy: 0.9615 - val_loss: 0.2937 - val_accuracy: 0.8874\n",
            "Epoch 8/20\n",
            "30/30 [==============================] - 1s 49ms/step - loss: 0.1066 - accuracy: 0.9680 - val_loss: 0.3310 - val_accuracy: 0.8796\n",
            "Epoch 9/20\n",
            "30/30 [==============================] - 1s 45ms/step - loss: 0.0910 - accuracy: 0.9740 - val_loss: 0.3296 - val_accuracy: 0.8836\n",
            "Epoch 10/20\n",
            "30/30 [==============================] - 2s 55ms/step - loss: 0.0800 - accuracy: 0.9780 - val_loss: 0.3924 - val_accuracy: 0.8639\n",
            "Epoch 11/20\n",
            "30/30 [==============================] - 1s 36ms/step - loss: 0.0716 - accuracy: 0.9804 - val_loss: 0.3588 - val_accuracy: 0.8780\n",
            "Epoch 12/20\n",
            "30/30 [==============================] - 1s 35ms/step - loss: 0.0605 - accuracy: 0.9849 - val_loss: 0.4316 - val_accuracy: 0.8620\n",
            "Epoch 13/20\n",
            "30/30 [==============================] - 1s 46ms/step - loss: 0.0540 - accuracy: 0.9861 - val_loss: 0.3964 - val_accuracy: 0.8783\n",
            "Epoch 14/20\n",
            "30/30 [==============================] - 1s 37ms/step - loss: 0.0433 - accuracy: 0.9905 - val_loss: 0.4218 - val_accuracy: 0.8739\n",
            "Epoch 15/20\n",
            "30/30 [==============================] - 1s 34ms/step - loss: 0.0381 - accuracy: 0.9923 - val_loss: 0.4663 - val_accuracy: 0.8719\n",
            "Epoch 16/20\n",
            "30/30 [==============================] - 1s 32ms/step - loss: 0.0338 - accuracy: 0.9934 - val_loss: 0.5358 - val_accuracy: 0.8638\n",
            "Epoch 17/20\n",
            "30/30 [==============================] - 1s 39ms/step - loss: 0.0308 - accuracy: 0.9939 - val_loss: 0.4886 - val_accuracy: 0.8729\n",
            "Epoch 18/20\n",
            "30/30 [==============================] - 1s 34ms/step - loss: 0.0235 - accuracy: 0.9968 - val_loss: 0.5246 - val_accuracy: 0.8692\n",
            "Epoch 19/20\n",
            "30/30 [==============================] - 1s 31ms/step - loss: 0.0215 - accuracy: 0.9969 - val_loss: 0.5329 - val_accuracy: 0.8715\n",
            "Epoch 20/20\n",
            "30/30 [==============================] - 1s 45ms/step - loss: 0.0184 - accuracy: 0.9975 - val_loss: 0.5620 - val_accuracy: 0.8679\n"
          ]
        }
      ]
    },
    {
      "cell_type": "code",
      "source": [
        "results = model.evaluate(x_test, y_test)\n",
        "print(results)"
      ],
      "metadata": {
        "colab": {
          "base_uri": "https://localhost:8080/"
        },
        "id": "SBlRXnzcVqiD",
        "outputId": "45a0ff29-6caf-47c4-d230-8786c910c98e"
      },
      "execution_count": 14,
      "outputs": [
        {
          "output_type": "stream",
          "name": "stdout",
          "text": [
            "782/782 [==============================] - 2s 3ms/step - loss: 0.6146 - accuracy: 0.8546\n",
            "[0.6146448254585266, 0.8546000123023987]\n"
          ]
        }
      ]
    },
    {
      "cell_type": "code",
      "source": [
        "predictions = model.predict(x_test)\n",
        "\n",
        "# Display sample predictions\n",
        "for i in range(5):\n",
        "    predicted_sentiment = \"Positive\" if predictions[i][0] > 0.5 else \"Negative\"\n",
        "    actual_sentiment = \"Positive\" if y_test[i] == 1 else \"Negative\"\n",
        "    print(\"Predicted Sentiment:\", predicted_sentiment, \"| Actual Sentiment:\", actual_sentiment)"
      ],
      "metadata": {
        "colab": {
          "base_uri": "https://localhost:8080/"
        },
        "id": "CDo-dNnuVtOk",
        "outputId": "a6e841bf-e22d-462c-92d4-cd579d42036b"
      },
      "execution_count": 15,
      "outputs": [
        {
          "output_type": "stream",
          "name": "stdout",
          "text": [
            "782/782 [==============================] - 3s 3ms/step\n",
            "Predicted Sentiment: Negative | Actual Sentiment: Negative\n",
            "Predicted Sentiment: Positive | Actual Sentiment: Positive\n",
            "Predicted Sentiment: Negative | Actual Sentiment: Positive\n",
            "Predicted Sentiment: Positive | Actual Sentiment: Negative\n",
            "Predicted Sentiment: Positive | Actual Sentiment: Positive\n"
          ]
        }
      ]
    },
    {
      "cell_type": "code",
      "source": [],
      "metadata": {
        "id": "SePkMlxXfPGg"
      },
      "execution_count": null,
      "outputs": []
    }
  ]
}